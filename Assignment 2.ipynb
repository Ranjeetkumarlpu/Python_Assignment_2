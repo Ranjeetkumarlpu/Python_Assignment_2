{
 "cells": [
  {
   "cell_type": "markdown",
   "id": "9c052ea9",
   "metadata": {},
   "source": [
    "# Assignment 02\n"
   ]
  },
  {
   "cell_type": "markdown",
   "id": "d1aa02f2",
   "metadata": {},
   "source": [
    "# Q1. Create the below pattern using nested for loop in Python."
   ]
  },
  {
   "cell_type": "code",
   "execution_count": 1,
   "id": "f9151ea0",
   "metadata": {},
   "outputs": [
    {
     "name": "stdout",
     "output_type": "stream",
     "text": [
      "*  \n",
      "* *  \n",
      "* * *  \n",
      "* * * *  \n",
      "* * * * *  \n",
      "* * * *  \n",
      "* * *  \n",
      "* *  \n",
      "*  \n",
      " \n"
     ]
    }
   ],
   "source": [
    "n=5\n",
    "for i in range(n):\n",
    "    for j in range(i+1):\n",
    "        print(\"*\",end=\" \")\n",
    "    print(\" \")\n",
    "for k in range(n,0,-1):\n",
    "    m=k\n",
    "    for m in range(m-1,0,-1):\n",
    "        print(\"*\",end=\" \")\n",
    "    print(\" \")    \n",
    "              "
   ]
  },
  {
   "cell_type": "markdown",
   "id": "dc733d2d",
   "metadata": {},
   "source": [
    "# Q2.Write a Python program to reverse a word after accepting the input from the user.\n",
    "Input word: ineuron \n",
    "Output: norueni"
   ]
  },
  {
   "cell_type": "code",
   "execution_count": 2,
   "id": "95c6c964",
   "metadata": {},
   "outputs": [
    {
     "name": "stdout",
     "output_type": "stream",
     "text": [
      "ineuron\n"
     ]
    },
    {
     "data": {
      "text/plain": [
       "'norueni'"
      ]
     },
     "execution_count": 2,
     "metadata": {},
     "output_type": "execute_result"
    }
   ],
   "source": [
    "N=str(input())\n",
    "N[::-1]"
   ]
  }
 ],
 "metadata": {
  "kernelspec": {
   "display_name": "Python 3 (ipykernel)",
   "language": "python",
   "name": "python3"
  },
  "language_info": {
   "codemirror_mode": {
    "name": "ipython",
    "version": 3
   },
   "file_extension": ".py",
   "mimetype": "text/x-python",
   "name": "python",
   "nbconvert_exporter": "python",
   "pygments_lexer": "ipython3",
   "version": "3.8.5"
  }
 },
 "nbformat": 4,
 "nbformat_minor": 5
}
